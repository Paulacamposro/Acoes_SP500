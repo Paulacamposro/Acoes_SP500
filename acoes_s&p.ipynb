{
 "cells": [
  {
   "cell_type": "markdown",
   "id": "a99a2587",
   "metadata": {},
   "source": [
    "## Pipeline Ações negociadas na bolsa\n",
    "\n",
    "### Questão de negocio\n",
    "\n",
    "Ação do S&P 500\n",
    "\n",
    "### Entendimento do negocio\n",
    "\n",
    "https://www.kaggle.com/camnugent/sandp500/\n",
    "\n",
    "● Date - no formato yy-mm-dd\n",
    "\n",
    "● Open - Preço da ação na abertura do mercado no dia, em dólares. \n",
    "\n",
    "● High - Maior preço alcançado naquele dia.\n",
    "\n",
    "● Low - Menor preço alcançado naquele dia.\n",
    "\n",
    "● Close - Preço da ação no fechamento do mercado no dia.\n",
    "\n",
    "● Volume - Número de ações vendidas / compradas.\n",
    "\n",
    "● Name - O nome da ação."
   ]
  },
  {
   "cell_type": "markdown",
   "id": "e53930eb",
   "metadata": {},
   "source": [
    "### 1 - Importar bibliotecas\n",
    "### 2 - Coletar dados\n",
    "### 3 - Descrição dos dados\n",
    "### 4 - Análise de dados"
   ]
  },
  {
   "cell_type": "code",
   "execution_count": null,
   "id": "53000c53",
   "metadata": {},
   "outputs": [],
   "source": []
  },
  {
   "cell_type": "markdown",
   "id": "4b66ee84",
   "metadata": {},
   "source": [
    "### 1 - Importar bibliotecas"
   ]
  },
  {
   "cell_type": "code",
   "execution_count": 1,
   "id": "96f7b1bc",
   "metadata": {},
   "outputs": [],
   "source": [
    "import findspark\n",
    "findspark.init()"
   ]
  },
  {
   "cell_type": "code",
   "execution_count": 15,
   "id": "60fd2b22",
   "metadata": {},
   "outputs": [],
   "source": [
    "import pyspark.sql.functions as f"
   ]
  },
  {
   "cell_type": "code",
   "execution_count": 3,
   "id": "8cb5f2ab",
   "metadata": {},
   "outputs": [],
   "source": [
    "from pyspark.sql import SparkSession"
   ]
  },
  {
   "cell_type": "code",
   "execution_count": null,
   "id": "ad979c39",
   "metadata": {},
   "outputs": [],
   "source": []
  },
  {
   "cell_type": "markdown",
   "id": "9b8f2414",
   "metadata": {},
   "source": [
    "### 2 - Coletar dados"
   ]
  },
  {
   "cell_type": "code",
   "execution_count": 4,
   "id": "47e68bee",
   "metadata": {},
   "outputs": [],
   "source": [
    "spark = SparkSession.builder.appName('SparkTrabalhoPraticoXP.com').getOrCreate()"
   ]
  },
  {
   "cell_type": "code",
   "execution_count": 5,
   "id": "bdcfc9fb",
   "metadata": {},
   "outputs": [],
   "source": [
    "df = spark.read.csv('C:/XP_DataScience/Modulo2/archive/all_stocks_5yr.csv',\n",
    "                    header= True, inferSchema= True)"
   ]
  },
  {
   "cell_type": "code",
   "execution_count": null,
   "id": "2ff6069c",
   "metadata": {},
   "outputs": [],
   "source": []
  },
  {
   "cell_type": "markdown",
   "id": "9ead751e",
   "metadata": {},
   "source": [
    "### 3 - Descrição dos dados"
   ]
  },
  {
   "cell_type": "code",
   "execution_count": 6,
   "id": "187c506f",
   "metadata": {},
   "outputs": [
    {
     "name": "stdout",
     "output_type": "stream",
     "text": [
      "root\n",
      " |-- date: string (nullable = true)\n",
      " |-- open: double (nullable = true)\n",
      " |-- high: double (nullable = true)\n",
      " |-- low: double (nullable = true)\n",
      " |-- close: double (nullable = true)\n",
      " |-- volume: integer (nullable = true)\n",
      " |-- Name: string (nullable = true)\n",
      "\n"
     ]
    }
   ],
   "source": [
    "df.printSchema()"
   ]
  },
  {
   "cell_type": "code",
   "execution_count": 7,
   "id": "e4311a06",
   "metadata": {},
   "outputs": [
    {
     "name": "stdout",
     "output_type": "stream",
     "text": [
      "+-------+----------+----------------+-----------------+-----------------+-----------------+-----------------+------+\n",
      "|summary|      date|            open|             high|              low|            close|           volume|  Name|\n",
      "+-------+----------+----------------+-----------------+-----------------+-----------------+-----------------+------+\n",
      "|  count|    619040|          619029|           619032|           619032|           619040|           619040|619040|\n",
      "|   mean|      null|83.0233343145474|83.77831069347276|82.25609641375338|83.04376276476519|4321823.395568945|  null|\n",
      "| stddev|      null|97.3787690433237|98.20751890446375|96.50742105809033|97.38974800165782|8693609.511967566|  null|\n",
      "|    min|2013-02-08|            1.62|             1.69|              1.5|             1.59|                0|     A|\n",
      "|    max|2018-02-07|          2044.0|          2067.99|          2035.11|           2049.0|        618237630|   ZTS|\n",
      "+-------+----------+----------------+-----------------+-----------------+-----------------+-----------------+------+\n",
      "\n"
     ]
    }
   ],
   "source": [
    "df.describe().show()"
   ]
  },
  {
   "cell_type": "code",
   "execution_count": null,
   "id": "1ffff766",
   "metadata": {},
   "outputs": [],
   "source": []
  },
  {
   "cell_type": "markdown",
   "id": "a8b31bc0",
   "metadata": {},
   "source": [
    "### 4 - Análise de dados"
   ]
  },
  {
   "cell_type": "markdown",
   "id": "d20ea73e",
   "metadata": {},
   "source": [
    "### 1 - Quantos registros há na planilha?\n",
    "\n",
    "#### 619040"
   ]
  },
  {
   "cell_type": "markdown",
   "id": "7877c664",
   "metadata": {},
   "source": [
    "### 2 - Quantos registros há na planilha para a ação da Apple (AAPL)?\n",
    "\n",
    "###### count #operaçoes de registros"
   ]
  },
  {
   "cell_type": "code",
   "execution_count": null,
   "id": "9f545454",
   "metadata": {},
   "outputs": [],
   "source": [
    "# operações de registros\n",
    "# where() e filter()\n",
    "\n",
    "De toda forma, ambos os métodos de filtragem são aplicados à DataFrames e estão intimamente associados à operações lógicas, \n",
    "permitindo assim a criação implícita de booleanos que são avaliados e utilizados como regra principal para seleção \n",
    "de registros"
   ]
  },
  {
   "cell_type": "code",
   "execution_count": 8,
   "id": "c1fcf5e7",
   "metadata": {},
   "outputs": [
    {
     "data": {
      "text/plain": [
       "1259"
      ]
     },
     "execution_count": 8,
     "metadata": {},
     "output_type": "execute_result"
    }
   ],
   "source": [
    "df.where(df['Name'] == 'AAPL').count()"
   ]
  },
  {
   "cell_type": "markdown",
   "id": "dc00723e",
   "metadata": {},
   "source": [
    "### 3 - Quantas empresas distintas têm registros nessa planilha? \n",
    "\n",
    "#### count #distinct #consultas"
   ]
  },
  {
   "cell_type": "code",
   "execution_count": null,
   "id": "e5805abe",
   "metadata": {},
   "outputs": [],
   "source": [
    "# criando consultas\n",
    "# select()"
   ]
  },
  {
   "cell_type": "code",
   "execution_count": 9,
   "id": "991af88a",
   "metadata": {},
   "outputs": [
    {
     "data": {
      "text/plain": [
       "505"
      ]
     },
     "execution_count": 9,
     "metadata": {},
     "output_type": "execute_result"
    }
   ],
   "source": [
    "df.select('Name').distinct().count()"
   ]
  },
  {
   "cell_type": "markdown",
   "id": "c10c0d9e",
   "metadata": {},
   "source": [
    "### 4 - Com qual frequência o preço de uma ação no fechamento é maior do que o preço na abertura?\n",
    "\n",
    "#### count where > \n",
    "\n",
    "#### operação de registro\n",
    "#### where operação"
   ]
  },
  {
   "cell_type": "code",
   "execution_count": 11,
   "id": "ef7517d3",
   "metadata": {},
   "outputs": [],
   "source": [
    "open_close = df.where(df['close'] > df['open']).count()"
   ]
  },
  {
   "cell_type": "code",
   "execution_count": 12,
   "id": "4be380f1",
   "metadata": {},
   "outputs": [
    {
     "data": {
      "text/plain": [
       "51.53"
      ]
     },
     "execution_count": 12,
     "metadata": {},
     "output_type": "execute_result"
    }
   ],
   "source": [
    "round((open_close/df.count()) * 100, 2)"
   ]
  },
  {
   "cell_type": "markdown",
   "id": "a3344701",
   "metadata": {},
   "source": [
    "### 5 - Qual o maior valor das ações da Apple (AAPL) na história?\n",
    "\n",
    "#### describe maior operação de registro"
   ]
  },
  {
   "cell_type": "code",
   "execution_count": 13,
   "id": "6631b451",
   "metadata": {},
   "outputs": [
    {
     "name": "stdout",
     "output_type": "stream",
     "text": [
      "+-------+----------+------------------+------------------+------------------+------------------+-------------------+----+\n",
      "|summary|      date|              open|              high|               low|             close|             volume|Name|\n",
      "+-------+----------+------------------+------------------+------------------+------------------+-------------------+----+\n",
      "|  count|      1259|              1259|              1259|              1259|              1259|               1259|1259|\n",
      "|   mean|      null|109.05542891183475|109.95111834789516|108.14158888006372|109.06669849086583|5.404789973550437E7|null|\n",
      "| stddev|      null| 30.54922002458826|30.686186407983914|30.376223585852472|30.556811676964696|  3.3468353335784E7|null|\n",
      "|    min|2013-02-08|           55.4242|           57.0857|           55.0142|           55.7899|           11475922|AAPL|\n",
      "|    max|2018-02-07|            179.37|             180.1|            178.25|            179.26|          266833581|AAPL|\n",
      "+-------+----------+------------------+------------------+------------------+------------------+-------------------+----+\n",
      "\n"
     ]
    }
   ],
   "source": [
    "df.where(df['name'] == 'AAPL').describe().show()"
   ]
  },
  {
   "cell_type": "markdown",
   "id": "5fab28f4",
   "metadata": {},
   "source": [
    "### 6 - Qual ação tem a maior volatilidade? Uma forma é medir o desvio-padrão do preço de fechamento de cada ação e considerar a ação de maior desvio-padrão.\n",
    "\n",
    "#### operação de registro ordenar maior sort operação de registro categorica e numerica groupby e agg"
   ]
  },
  {
   "cell_type": "code",
   "execution_count": 39,
   "id": "08d42f45",
   "metadata": {},
   "outputs": [
    {
     "name": "stdout",
     "output_type": "stream",
     "text": [
      "+-----+------------------+\n",
      "| Name|     Desvio padrão|\n",
      "+-----+------------------+\n",
      "| PCLN|  320.533473018748|\n",
      "| AMZN|  282.500395033522|\n",
      "|GOOGL|187.57389185479704|\n",
      "| GOOG|166.42052902768182|\n",
      "|  MTD|131.39721989584996|\n",
      "+-----+------------------+\n",
      "only showing top 5 rows\n",
      "\n"
     ]
    }
   ],
   "source": [
    "df.groupBy('Name').agg(f.stddev('close').alias('Desvio padrão')).sort('Desvio padrão', ascending= False).show(5)"
   ]
  },
  {
   "cell_type": "markdown",
   "id": "e2c0a438",
   "metadata": {},
   "source": [
    "### 7 - Qual o dia com maior volume total de negociação da bolsa?"
   ]
  },
  {
   "cell_type": "code",
   "execution_count": 40,
   "id": "b804e848",
   "metadata": {},
   "outputs": [
    {
     "name": "stdout",
     "output_type": "stream",
     "text": [
      "+----------+------------+\n",
      "|      date|Volume total|\n",
      "+----------+------------+\n",
      "|2015-08-24|  4607945196|\n",
      "|2016-06-24|  4367393052|\n",
      "|2015-12-18|  4124454411|\n",
      "|2016-01-20|  4087629753|\n",
      "|2018-02-06|  4072080890|\n",
      "+----------+------------+\n",
      "only showing top 5 rows\n",
      "\n"
     ]
    }
   ],
   "source": [
    "df.groupBy('date').agg(f.sum('volume').alias('Volume total')).sort('Volume total', ascending= False).show(5)"
   ]
  },
  {
   "cell_type": "markdown",
   "id": "954e31b9",
   "metadata": {},
   "source": [
    "### 8 - Qual a ação mais negociada da bolsa, em volume de transações?"
   ]
  },
  {
   "cell_type": "code",
   "execution_count": 43,
   "id": "aec53018",
   "metadata": {},
   "outputs": [
    {
     "name": "stdout",
     "output_type": "stream",
     "text": [
      "+----+-----------------------------+\n",
      "|Name|Ação mais negociada em volume|\n",
      "+----+-----------------------------+\n",
      "| BAC|                 117884953591|\n",
      "|AAPL|                  68046305767|\n",
      "|  GE|                  53023644686|\n",
      "|   F|                  43388129992|\n",
      "|  FB|                  43258314899|\n",
      "+----+-----------------------------+\n",
      "only showing top 5 rows\n",
      "\n"
     ]
    }
   ],
   "source": [
    "df.groupBy('Name').agg(f.sum('volume').alias('Ação mais negociada em volume')).sort('Ação mais negociada em volume', ascending= False).show(5)"
   ]
  },
  {
   "cell_type": "markdown",
   "id": "ab026948",
   "metadata": {},
   "source": [
    "### 9 - Quantas ações começam com a letra “A”?"
   ]
  },
  {
   "cell_type": "code",
   "execution_count": 17,
   "id": "4ce3a0d7",
   "metadata": {},
   "outputs": [
    {
     "data": {
      "text/plain": [
       "59"
      ]
     },
     "execution_count": 17,
     "metadata": {},
     "output_type": "execute_result"
    }
   ],
   "source": [
    "df.where(df['Name'].startswith('A')).select('Name').distinct().count()"
   ]
  },
  {
   "cell_type": "markdown",
   "id": "a2223681",
   "metadata": {},
   "source": [
    "### 10 - Com qual frequência o preço mais alto do dia da ação também é o preço de fechamento?"
   ]
  },
  {
   "cell_type": "code",
   "execution_count": 18,
   "id": "fb9cdfef",
   "metadata": {},
   "outputs": [],
   "source": [
    "high_close = df.where(df['high'] == df['close']).count()"
   ]
  },
  {
   "cell_type": "code",
   "execution_count": 19,
   "id": "d6310aaf",
   "metadata": {},
   "outputs": [
    {
     "data": {
      "text/plain": [
       "1.2"
      ]
     },
     "execution_count": 19,
     "metadata": {},
     "output_type": "execute_result"
    }
   ],
   "source": [
    "round((high_close/df.count()) * 100, 2)"
   ]
  },
  {
   "cell_type": "markdown",
   "id": "e7b5c9b3",
   "metadata": {},
   "source": [
    "### 11 - Em qual dia a ação da Apple mais subiu entre a abertura e o fechamento, de forma absoluta?"
   ]
  },
  {
   "cell_type": "code",
   "execution_count": 20,
   "id": "a3a46ce5",
   "metadata": {},
   "outputs": [
    {
     "name": "stdout",
     "output_type": "stream",
     "text": [
      "+----------+-------+-------+-------+-------+---------+----+\n",
      "|      date|   open|   high|    low|  close|   volume|Name|\n",
      "+----------+-------+-------+-------+-------+---------+----+\n",
      "|2013-02-08|67.7142|68.4014|66.8928|67.8542|158168416|AAPL|\n",
      "|2013-02-11|68.0714|69.2771|67.6071|68.5614|129029425|AAPL|\n",
      "|2013-02-14|66.3599|67.3771|66.2885|66.6556| 88809154|AAPL|\n",
      "|2013-02-21|63.7142|64.1671|63.2599|63.7228|111596821|AAPL|\n",
      "|2013-02-22|64.1785|64.5142|63.7999|64.4014| 82583823|AAPL|\n",
      "+----------+-------+-------+-------+-------+---------+----+\n",
      "only showing top 5 rows\n",
      "\n"
     ]
    }
   ],
   "source": [
    "df_apple = df.where((df['Name'] == 'AAPL') & (df['close'] > df['open']))\n",
    "df_apple.show(5)"
   ]
  },
  {
   "cell_type": "code",
   "execution_count": 21,
   "id": "0d2c8aa7",
   "metadata": {},
   "outputs": [
    {
     "name": "stdout",
     "output_type": "stream",
     "text": [
      "+----------+-------+-------+-------+-------+---------+----+--------------------+\n",
      "|      date|   open|   high|    low|  close|   volume|Name|    difference_value|\n",
      "+----------+-------+-------+-------+-------+---------+----+--------------------+\n",
      "|2013-02-08|67.7142|68.4014|66.8928|67.8542|158168416|AAPL| 0.14000000000000057|\n",
      "|2013-02-11|68.0714|69.2771|67.6071|68.5614|129029425|AAPL|  0.4900000000000091|\n",
      "|2013-02-14|66.3599|67.3771|66.2885|66.6556| 88809154|AAPL| 0.29570000000001073|\n",
      "|2013-02-21|63.7142|64.1671|63.2599|63.7228|111596821|AAPL|0.008600000000001273|\n",
      "|2013-02-22|64.1785|64.5142|63.7999|64.4014| 82583823|AAPL| 0.22289999999999566|\n",
      "|2013-02-26|63.4028|64.5056|62.5228|64.1385|125096657|AAPL|  0.7356999999999942|\n",
      "|2013-03-05|60.2114|62.1699|60.1071|61.5919|159298020|AAPL|   1.380500000000005|\n",
      "|2013-03-07|60.6428|61.7157|60.1514|61.5117|116992841|AAPL|  0.8688999999999965|\n",
      "|2013-03-08|61.3999|62.2042|61.2299|61.6742| 97854442|AAPL| 0.27429999999999666|\n",
      "|2013-03-11|61.3928|62.7157|60.7342|62.5528|118272126|AAPL|  1.1599999999999966|\n",
      "|2013-03-15|62.5614|63.4614|62.4642|63.3799|160710606|AAPL|  0.8185000000000002|\n",
      "|2013-03-18|63.0642|65.3514|63.0285|65.1028|150441144|AAPL|  2.0386000000000024|\n",
      "|2013-03-21|64.3171|65.4256|64.2999|64.6756| 95493524|AAPL|  0.3585000000000065|\n",
      "|2013-03-22|64.9399|66.0142|64.7299|65.9871| 98570591|AAPL|  1.0472000000000037|\n",
      "|2013-04-02|61.0857|62.5914|60.9142|61.3988|132350022|AAPL|  0.3130999999999986|\n",
      "|2013-04-03|61.6242|62.4685|61.4728|61.7128| 90719482|AAPL| 0.08859999999999957|\n",
      "|2013-04-08|60.6928|61.0714|60.3557|60.8871| 75169647|AAPL| 0.19429999999999836|\n",
      "|2013-04-09|60.9085|61.2142|60.3928|60.9971| 76615504|AAPL| 0.08860000000000667|\n",
      "|2013-04-10|61.1571|62.4371|60.8585|62.2414| 93895844|AAPL|   1.084299999999999|\n",
      "|2013-04-11|61.9599|62.5699|61.5999|62.0471| 82073628|AAPL| 0.08720000000000283|\n",
      "+----------+-------+-------+-------+-------+---------+----+--------------------+\n",
      "only showing top 20 rows\n",
      "\n"
     ]
    }
   ],
   "source": [
    "df_apple = df_apple.withColumn('difference_value', df['close'] - df['open'])\n",
    "df_apple.show()"
   ]
  },
  {
   "cell_type": "code",
   "execution_count": 22,
   "id": "99853607",
   "metadata": {},
   "outputs": [
    {
     "name": "stdout",
     "output_type": "stream",
     "text": [
      "+----------+------+------+------+------+---------+----+------------------+\n",
      "|      date|  open|  high|   low| close|   volume|Name|  difference_value|\n",
      "+----------+------+------+------+------+---------+----+------------------+\n",
      "|2015-08-24| 94.87| 108.8|  92.0|103.12|162206292|AAPL|              8.25|\n",
      "|2018-02-06|154.83|163.72| 154.0|163.03| 68243838|AAPL| 8.199999999999989|\n",
      "|2017-05-08|149.03| 153.7|149.03|153.01| 48752413|AAPL|3.9799999999999898|\n",
      "|2014-12-09|110.19| 114.3|109.35|114.12| 60208036|AAPL| 3.930000000000007|\n",
      "|2017-10-27|159.29| 163.6| 158.7|163.05| 44454160|AAPL|3.7600000000000193|\n",
      "+----------+------+------+------+------+---------+----+------------------+\n",
      "only showing top 5 rows\n",
      "\n"
     ]
    }
   ],
   "source": [
    "df_apple.sort('difference_value', ascending= False).show(5)"
   ]
  },
  {
   "cell_type": "markdown",
   "id": "37941dd3",
   "metadata": {},
   "source": [
    "### 12 - Em média, qual o volume diário de transações das ações da AAPL?"
   ]
  },
  {
   "cell_type": "code",
   "execution_count": 26,
   "id": "cf6b52e8",
   "metadata": {},
   "outputs": [
    {
     "name": "stdout",
     "output_type": "stream",
     "text": [
      "+---------------------------+\n",
      "|Média do volume diário AAPL|\n",
      "+---------------------------+\n",
      "|        5.404789973550437E7|\n",
      "+---------------------------+\n",
      "\n"
     ]
    }
   ],
   "source": [
    "df.where(df['Name'] == 'AAPL').select(f.mean('volume').alias('Média do volume diário AAPL')).show()"
   ]
  },
  {
   "cell_type": "markdown",
   "id": "a4971037",
   "metadata": {},
   "source": [
    "### 13 - Quantas ações tem 1, 2, 3, 4 e 5 caracteres em seu nome, respectivamente?"
   ]
  },
  {
   "cell_type": "code",
   "execution_count": null,
   "id": "0e3578a9",
   "metadata": {},
   "outputs": [],
   "source": [
    "1 caractere"
   ]
  },
  {
   "cell_type": "code",
   "execution_count": 27,
   "id": "d70278a7",
   "metadata": {},
   "outputs": [
    {
     "data": {
      "text/plain": [
       "10"
      ]
     },
     "execution_count": 27,
     "metadata": {},
     "output_type": "execute_result"
    }
   ],
   "source": [
    "df.where(f.length('Name') == 1).select('Name').distinct().count()"
   ]
  },
  {
   "cell_type": "code",
   "execution_count": 28,
   "id": "adba5ced",
   "metadata": {},
   "outputs": [
    {
     "data": {
      "text/plain": [
       "50"
      ]
     },
     "execution_count": 28,
     "metadata": {},
     "output_type": "execute_result"
    }
   ],
   "source": [
    "df.where(f.length('Name') == 2).select('Name').distinct().count()"
   ]
  },
  {
   "cell_type": "code",
   "execution_count": 29,
   "id": "38d28131",
   "metadata": {},
   "outputs": [
    {
     "data": {
      "text/plain": [
       "323"
      ]
     },
     "execution_count": 29,
     "metadata": {},
     "output_type": "execute_result"
    }
   ],
   "source": [
    "df.where(f.length('Name') == 3).select('Name').distinct().count()"
   ]
  },
  {
   "cell_type": "code",
   "execution_count": 30,
   "id": "38466ed1",
   "metadata": {},
   "outputs": [
    {
     "data": {
      "text/plain": [
       "117"
      ]
     },
     "execution_count": 30,
     "metadata": {},
     "output_type": "execute_result"
    }
   ],
   "source": [
    "df.where(f.length('Name') == 4).select('Name').distinct().count()"
   ]
  },
  {
   "cell_type": "code",
   "execution_count": 31,
   "id": "cbc6bca1",
   "metadata": {},
   "outputs": [
    {
     "data": {
      "text/plain": [
       "5"
      ]
     },
     "execution_count": 31,
     "metadata": {},
     "output_type": "execute_result"
    }
   ],
   "source": [
    "df.where(f.length('Name') == 5).select('Name').distinct().count()"
   ]
  },
  {
   "cell_type": "markdown",
   "id": "43271348",
   "metadata": {},
   "source": [
    "### 14 - Qual a ação menos negociada da bolsa, em volume de transações?"
   ]
  },
  {
   "cell_type": "code",
   "execution_count": 37,
   "id": "9307f70f",
   "metadata": {},
   "outputs": [
    {
     "name": "stdout",
     "output_type": "stream",
     "text": [
      "+----+------------------------------+\n",
      "|Name|Ação menos negociada em volume|\n",
      "+----+------------------------------+\n",
      "|APTV|                      92947779|\n",
      "| BHF|                     144878392|\n",
      "| MTD|                     214489754|\n",
      "| AZO|                     397585127|\n",
      "|WLTW|                     414734590|\n",
      "+----+------------------------------+\n",
      "only showing top 5 rows\n",
      "\n"
     ]
    }
   ],
   "source": [
    "df.groupBy('Name').agg(f.sum('volume').alias('Ação menos negociada em volume')).sort('Ação menos negociada em volume', ascending = True).show(5)"
   ]
  },
  {
   "cell_type": "code",
   "execution_count": null,
   "id": "e5201d1c",
   "metadata": {},
   "outputs": [],
   "source": []
  },
  {
   "cell_type": "code",
   "execution_count": null,
   "id": "75ea0944",
   "metadata": {},
   "outputs": [],
   "source": []
  }
 ],
 "metadata": {
  "kernelspec": {
   "display_name": "Python 3 (ipykernel)",
   "language": "python",
   "name": "python3"
  },
  "language_info": {
   "codemirror_mode": {
    "name": "ipython",
    "version": 3
   },
   "file_extension": ".py",
   "mimetype": "text/x-python",
   "name": "python",
   "nbconvert_exporter": "python",
   "pygments_lexer": "ipython3",
   "version": "3.10.9"
  }
 },
 "nbformat": 4,
 "nbformat_minor": 5
}
